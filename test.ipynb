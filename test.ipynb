{
 "cells": [
  {
   "cell_type": "code",
   "execution_count": 1,
   "metadata": {
    "collapsed": false
   },
   "outputs": [],
   "source": [
    "import numpy as np\n",
    "from sklearn import datasets\n",
    "from deepautoencoder import StackedAutoEncoder, mnist_data\n",
    "from sklearn.preprocessing import StandardScaler\n",
    "from sklearn.linear_model import SGDClassifier\n",
    "from sklearn.metrics import accuracy_score, precision_score\n",
    "import tensorflow as tf"
   ]
  },
  {
   "cell_type": "code",
   "execution_count": 2,
   "metadata": {
    "collapsed": false
   },
   "outputs": [
    {
     "name": "stdout",
     "output_type": "stream",
     "text": [
      "reading training file\n",
      "reading test file\n"
     ]
    }
   ],
   "source": [
    "train_x, train_y, test_x, test_y = mnist_data.read('data/train.amat', 'data/test.amat')"
   ]
  },
  {
   "cell_type": "code",
   "execution_count": 7,
   "metadata": {
    "collapsed": false
   },
   "outputs": [],
   "source": [
    "# train = np.genfromtxt('data/train.csv', delimiter=',')\n",
    "# test = np.genfromtxt('data/test.csv', delimiter=',')\n",
    "# train_x = train[:,:-1]\n",
    "# train_y = train[:,-1]\n",
    "# test_x = test[:,:-1]\n",
    "# test_y = test[:,-1]\n",
    "# iris = datasets.load_iris().data\n",
    "# train_x = StandardScaler().fit_transform(train_x)\n",
    "# test_x = StandardScaler().fit_transform(test_x)"
   ]
  },
  {
   "cell_type": "code",
   "execution_count": 12,
   "metadata": {
    "collapsed": false
   },
   "outputs": [],
   "source": [
    "model1 = StackedAutoEncoder(dims=[400], activations = ['linear'], noise='gaussian',\n",
    "                           epoch=[650], loss='rmse', lr=0.005, batch_size=1500, print_step=30)\n",
    "model2 = StackedAutoEncoder(dims=[5,6], activations=['relu', 'relu'], noise='gaussian', epoch=[1000,500], \n",
    "                            loss='rmse', lr=0.007, batch_size=50, print_step=200)"
   ]
  },
  {
   "cell_type": "code",
   "execution_count": 13,
   "metadata": {
    "collapsed": false
   },
   "outputs": [
    {
     "name": "stdout",
     "output_type": "stream",
     "text": [
      "Layer 1\n",
      "epoch 29: global loss = 101.92142486572266\n",
      "epoch 59: global loss = 77.35276794433594\n",
      "epoch 89: global loss = 62.23616409301758\n",
      "epoch 119: global loss = 51.632808685302734\n",
      "epoch 149: global loss = 43.340999603271484\n",
      "epoch 179: global loss = 36.849151611328125\n",
      "epoch 209: global loss = 31.406797409057617\n",
      "epoch 239: global loss = 26.973377227783203\n",
      "epoch 269: global loss = 23.171022415161133\n",
      "epoch 299: global loss = 19.978246688842773\n",
      "epoch 329: global loss = 17.25379753112793\n",
      "epoch 359: global loss = 14.895711898803711\n",
      "epoch 389: global loss = 12.906460762023926\n",
      "epoch 419: global loss = 11.148634910583496\n",
      "epoch 449: global loss = 9.659966468811035\n",
      "epoch 479: global loss = 8.353558540344238\n",
      "epoch 509: global loss = 7.22713041305542\n",
      "epoch 539: global loss = 6.258431911468506\n",
      "epoch 569: global loss = 5.4035234451293945\n",
      "epoch 599: global loss = 4.6798224449157715\n",
      "epoch 629: global loss = 4.034695625305176\n",
      "[[ 0.01550753  0.09749793 -0.00550193 ..., -0.23058201  0.1956633\n",
      "  -0.01948924]\n",
      " [-0.05537609 -0.24842991  0.05482596 ...,  0.04711377  0.28531     0.06729826]\n",
      " [ 0.0065029  -0.14081913  0.05941653 ...,  0.06210672  0.16638209\n",
      "  -0.2060678 ]\n",
      " ..., \n",
      " [ 0.03485384 -0.03683771 -0.13328619 ..., -0.16141993 -0.05410307\n",
      "  -0.1175907 ]\n",
      " [-0.24813208  0.04918716 -0.21161793 ..., -0.13290665  0.00963971\n",
      "   0.16822548]\n",
      " [ 0.03442994 -0.07349699 -0.10473047 ...,  0.09338523  0.04872659\n",
      "   0.02249364]]\n",
      "(12000, 400) (50000, 400)\n"
     ]
    }
   ],
   "source": [
    "xx = model1.fit_transform(np.r_[train_x, test_x])\n",
    "train_xx = xx[:len(train_x)]\n",
    "test_xx = xx[len(train_x):]\n",
    "print(train_xx.shape, test_xx.shape)"
   ]
  },
  {
   "cell_type": "code",
   "execution_count": 7,
   "metadata": {
    "collapsed": false
   },
   "outputs": [
    {
     "name": "stdout",
     "output_type": "stream",
     "text": [
      "Layer 1\n",
      "epoch 199: global loss = 2.4214932918548584\n",
      "epoch 399: global loss = 1.0057744979858398\n",
      "epoch 599: global loss = 0.7559930086135864\n",
      "epoch 799: global loss = 0.4162595272064209\n",
      "epoch 999: global loss = 0.3130458891391754\n",
      "Layer 2\n",
      "epoch 199: global loss = 0.0663912445306778\n",
      "epoch 399: global loss = 0.04874096438288689\n"
     ]
    }
   ],
   "source": [
    "pp = model2.fit_transform(iris)"
   ]
  },
  {
   "cell_type": "code",
   "execution_count": 6,
   "metadata": {
    "collapsed": false
   },
   "outputs": [
    {
     "data": {
      "text/plain": [
       "array([ 1.31179571, -1.95800006,  1.01303792,  0.97272193, -0.17699262,\n",
       "       -1.29262221, -1.31551278, -1.21083057, -1.50344634, -0.0965444 ,\n",
       "        0.59724611, -0.6494962 , -3.49985695, -0.30785286, -0.23308799,\n",
       "        0.21563172,  0.12909293,  1.39157319, -0.15972976, -0.57759953,\n",
       "        0.1196399 , -1.54503727,  0.08533919,  0.68357611,  1.39569056,\n",
       "       -0.86446357,  3.01472449,  0.52403623,  2.52302909, -0.16381824,\n",
       "       -0.11957414,  0.06601053, -1.65876615,  1.64426935,  1.00454831,\n",
       "       -0.64125896, -1.89955258, -0.89688486, -1.00098193, -0.03089035,\n",
       "        1.39300621, -1.29888213, -0.09950158,  1.02288914, -1.22028673,\n",
       "       -0.22380742, -2.15578198,  1.32637954,  0.93633687, -1.41742849,\n",
       "       -1.98732305, -0.93380857,  0.82361984, -0.40955672, -0.7098611 ,\n",
       "       -1.48103356,  1.15523326, -0.84218276, -1.78834713, -0.57677841,\n",
       "        0.24555114, -0.22239256, -1.8537842 , -0.85183001, -1.30435252,\n",
       "        1.4217844 ,  1.13165498,  0.37307471,  1.82772338, -0.12970471,\n",
       "       -2.20347166,  1.9247148 , -0.43027103, -0.14204299,  0.12284338,\n",
       "        1.46055532,  0.47190416,  0.54468256, -0.32070327, -0.57440531,\n",
       "        1.83393192,  2.04557848, -2.45850372,  1.03924334, -0.4197011 ,\n",
       "       -2.88187909, -1.4254868 , -1.0217241 ,  1.22723019,  0.10706884,\n",
       "        0.98456079, -0.99559259, -0.70523518, -2.05716109,  1.80115378,\n",
       "       -1.61975789,  2.97310948,  0.82668906, -0.16477437, -1.46725559,\n",
       "        0.88493109, -0.59597105,  1.33739138,  0.86385262, -0.16624692,\n",
       "       -1.3656646 , -1.92486036, -1.60683703, -2.26050162, -0.52199841,\n",
       "        3.49803019, -0.75714427, -1.89184356, -2.17215252,  0.70408976,\n",
       "       -0.16437876,  1.3542695 , -0.11585975, -0.69074613, -0.44976288,\n",
       "        0.08928722,  3.50721836, -0.89390326,  0.17652714, -0.57192469,\n",
       "       -1.26870477, -1.73434484,  0.72597367,  0.84173661, -0.81529522,\n",
       "       -0.01521598, -0.14422733, -0.52697206, -2.07918429,  0.3376815 ,\n",
       "       -1.99763513,  0.66047531, -0.79120851,  0.09743798,  2.93827701,\n",
       "       -0.3561534 ,  0.18539715,  1.69538963, -2.19065189,  0.62191045,\n",
       "       -0.43870461,  0.78879452, -1.51530659, -1.06743932, -0.22200829,\n",
       "        0.54681647, -1.27370501,  2.02650213, -2.02202773, -1.4282372 ,\n",
       "        0.62473345, -0.70013022,  2.12740517,  1.09842038, -2.31670332,\n",
       "        3.67633486, -0.22928558,  0.55494612,  0.13657445, -1.23203099,\n",
       "        0.66834831, -0.0838865 , -1.78530157, -0.89499545,  2.18374729,\n",
       "       -2.40208387,  2.62182236, -0.93921423,  0.61310029, -2.12509155,\n",
       "        0.46352264, -1.71637607,  0.12662767, -0.20267779,  1.58968234,\n",
       "       -1.70352852,  1.30210185, -0.21544152,  1.19361472,  0.62134522,\n",
       "        0.02746221,  0.54186362,  2.56361246,  0.20314562,  0.25350028,\n",
       "        0.50720167,  0.02012016,  1.01415396, -0.29014423, -0.92498255,\n",
       "       -1.31339955, -0.99519747, -0.63997293,  0.15221822,  1.92877448,\n",
       "        1.62631011, -0.19520706, -1.39293921,  0.0507188 , -0.25290817,\n",
       "        3.43578291,  0.34476519, -0.69925082, -1.39179492,  0.50694019,\n",
       "        2.56821394, -1.84277415, -0.32269824,  1.106359  , -0.95696127,\n",
       "        0.41336536,  1.21251571,  3.20940208, -0.99937886, -3.26363254,\n",
       "        1.16305912,  0.88764668, -0.24807417,  0.03974554,  2.35786057,\n",
       "       -1.84082317,  1.62697518, -2.06027055, -0.72222793, -1.51857615,\n",
       "        1.36513317,  0.07759845, -0.45806769,  1.61832416, -2.04449105,\n",
       "        0.51088119,  0.29251066, -3.08045197, -0.92740786, -2.49974775,\n",
       "       -1.8494271 , -1.37526894,  1.56316018,  1.75463569, -0.1384193 ,\n",
       "       -0.61866236, -0.46893087, -0.62371337, -1.24685478, -0.86674666,\n",
       "       -1.71610224, -1.16815305, -2.06137753,  1.6584841 ,  0.94639468,\n",
       "        1.01944029, -0.12664133,  0.97300583, -1.15042567, -2.57721162,\n",
       "        1.60005593, -0.08217949,  0.84588277,  0.8099041 ,  0.10370529,\n",
       "       -1.04363322,  1.93429863,  0.02786005, -0.9913277 ,  0.91012943,\n",
       "        1.94572318, -0.8186785 , -0.58849728, -0.62011474,  0.39339438,\n",
       "       -1.2123158 ,  0.22515118,  2.74462247, -0.35293168,  2.23160243,\n",
       "       -0.10059214,  1.38612342, -0.51364887, -0.90668178, -1.07705605,\n",
       "        1.85730958,  0.86702311,  1.28834593,  0.10044987,  1.71424615,\n",
       "        0.86966825, -1.12094533, -3.41603136,  0.87500381, -0.16137794,\n",
       "        0.05598213,  1.05007923,  1.04346061,  0.03085601,  1.03484976,\n",
       "       -0.98449141,  0.87983716, -0.07152539,  2.15339565, -0.28500205,\n",
       "       -0.35445118, -2.41479588, -1.58148801, -0.22792459, -0.6290462 ,\n",
       "       -0.41833162,  2.94874763,  2.53382444, -1.71374559,  3.32698369,\n",
       "        1.16097665,  1.66892028,  1.0923748 ,  1.10121429, -2.87297058,\n",
       "        2.67724729, -1.82615173,  1.47166109,  1.46405041,  0.28497723,\n",
       "        1.67178893,  0.93656003, -0.26348126, -0.72692788, -1.41670775,\n",
       "       -0.0967207 , -0.13452059,  2.3377378 ,  0.80251151,  0.6080243 ,\n",
       "        1.15137172,  0.45135528,  0.5951786 , -1.06708765, -0.38147438,\n",
       "       -1.53991818,  1.93002272, -0.02423239,  1.87194872, -1.45591235,\n",
       "       -1.0851028 ,  1.4831109 , -2.15080214, -0.54457331, -2.74606991,\n",
       "        0.6711365 , -0.66757786,  0.04404026, -0.07115595,  0.86413038,\n",
       "        0.94055235, -2.82127929,  0.43122339, -2.57749367,  1.08602524,\n",
       "        0.59040093, -0.09885907,  0.32373476, -0.53644907, -0.11657119,\n",
       "        0.76615614,  0.71032166, -0.39083427,  0.58739775, -1.46114659,\n",
       "       -1.82196045,  1.15544248,  2.1427021 ,  1.33726859, -0.68540812,\n",
       "        0.09409991, -0.18861535,  0.04201651,  2.0490396 ,  0.901968  ,\n",
       "        0.08739787,  2.0983355 ,  0.38309836,  1.3584317 , -0.5901705 ,\n",
       "        0.54850876, -0.84166193,  1.26392996,  0.27420366,  1.30432451,\n",
       "       -1.00405955, -0.34099153, -2.62408686,  0.66308516,  0.98910099,\n",
       "        0.42959285,  0.27302855,  2.79112172, -1.61577904,  0.93554854], dtype=float32)"
      ]
     },
     "execution_count": 6,
     "metadata": {},
     "output_type": "execute_result"
    }
   ],
   "source": [
    "train_xx[0]"
   ]
  },
  {
   "cell_type": "code",
   "execution_count": 7,
   "metadata": {
    "collapsed": false
   },
   "outputs": [],
   "source": [
    "from sklearn.linear_model import LogisticRegression\n",
    "from sklearn.metrics import precision_score, accuracy_score"
   ]
  },
  {
   "cell_type": "code",
   "execution_count": 14,
   "metadata": {
    "collapsed": false
   },
   "outputs": [
    {
     "data": {
      "text/plain": [
       "LogisticRegression(C=1.0, class_weight=None, dual=False, fit_intercept=True,\n",
       "          intercept_scaling=1, max_iter=100, multi_class='ovr', n_jobs=1,\n",
       "          penalty='l2', random_state=None, solver='liblinear', tol=0.0001,\n",
       "          verbose=0, warm_start=False)"
      ]
     },
     "execution_count": 14,
     "metadata": {},
     "output_type": "execute_result"
    }
   ],
   "source": [
    "classifier = LogisticRegression()\n",
    "classifier.fit(train_xx, train_y.astype(np.int32))"
   ]
  },
  {
   "cell_type": "code",
   "execution_count": 15,
   "metadata": {
    "collapsed": false
   },
   "outputs": [
    {
     "data": {
      "text/plain": [
       "0.40826000000000001"
      ]
     },
     "execution_count": 15,
     "metadata": {},
     "output_type": "execute_result"
    }
   ],
   "source": [
    "accuracy_score(test_y.astype(np.int32), classifier.predict(test_xx))"
   ]
  },
  {
   "cell_type": "code",
   "execution_count": 76,
   "metadata": {
    "collapsed": false
   },
   "outputs": [
    {
     "data": {
      "text/plain": [
       "array([2, 0, 2, ..., 6, 6, 4], dtype=int32)"
      ]
     },
     "execution_count": 76,
     "metadata": {},
     "output_type": "execute_result"
    }
   ],
   "source": [
    "classifier.predict(test_xx)"
   ]
  },
  {
   "cell_type": "code",
   "execution_count": 57,
   "metadata": {
    "collapsed": false
   },
   "outputs": [
    {
     "data": {
      "text/plain": [
       "array([ 6.,  0.,  6., ...,  7.,  6.,  7.])"
      ]
     },
     "execution_count": 57,
     "metadata": {},
     "output_type": "execute_result"
    }
   ],
   "source": [
    "test_y"
   ]
  },
  {
   "cell_type": "code",
   "execution_count": null,
   "metadata": {
    "collapsed": true
   },
   "outputs": [],
   "source": []
  }
 ],
 "metadata": {
  "kernelspec": {
   "display_name": "Python 3",
   "language": "python",
   "name": "python3"
  },
  "language_info": {
   "codemirror_mode": {
    "name": "ipython",
    "version": 3
   },
   "file_extension": ".py",
   "mimetype": "text/x-python",
   "name": "python",
   "nbconvert_exporter": "python",
   "pygments_lexer": "ipython3",
   "version": "3.5.1+"
  }
 },
 "nbformat": 4,
 "nbformat_minor": 0
}
