{
 "cells": [
  {
   "cell_type": "code",
   "execution_count": 4,
   "metadata": {
    "collapsed": true
   },
   "outputs": [],
   "source": [
    "import numpy as np\n",
    "from sklearn import datasets\n",
    "from deepautoencoder import StackedAutoEncoder\n",
    "from sklearn.preprocessing import StandardScaler"
   ]
  },
  {
   "cell_type": "code",
   "execution_count": 5,
   "metadata": {
    "collapsed": true
   },
   "outputs": [],
   "source": [
    "train = np.genfromtxt('data/train.csv', delimiter=',')[:,:-1]\n",
    "iris = datasets.load_iris().data\n",
    "train = StandardScaler().fit_transform(train)"
   ]
  },
  {
   "cell_type": "code",
   "execution_count": 3,
   "metadata": {
    "collapsed": false
   },
   "outputs": [
    {
     "name": "stdout",
     "output_type": "stream",
     "text": [
      "(125973, 122)\n"
     ]
    }
   ],
   "source": [
    "print(train.shape)\n",
    "model1 = StackedAutoEncoder(dims=[200, 50], activations = ['relu', 'relu'], noise='gaussian', \n",
    "                           epoch=300, loss='rmse', lr=0.001, batch_size=1500, print_step=50)\n",
    "model2 = StackedAutoEncoder(dims=[5,6], activations=['relu', 'relu'], noise='gaussian', epoch=10000, \n",
    "                            loss='rmse', lr=0.007, batch_size=50, print_step=2000)"
   ]
  },
  {
   "cell_type": "code",
   "execution_count": 7,
   "metadata": {
    "collapsed": false
   },
   "outputs": [
    {
     "name": "stdout",
     "output_type": "stream",
     "text": [
      "Layer 1\n",
      "epoch 49: global loss = 100.38136291503906\n",
      "epoch 99: global loss = 89.64900207519531\n",
      "epoch 149: global loss = 81.66922760009766\n",
      "epoch 199: global loss = 75.17326354980469\n",
      "epoch 249: global loss = 69.62085723876953\n",
      "epoch 299: global loss = 64.75006103515625\n",
      "Layer 2\n",
      "epoch 49: global loss = 256.5228576660156\n",
      "epoch 99: global loss = 186.5666961669922\n",
      "epoch 149: global loss = 134.90782165527344\n",
      "epoch 199: global loss = 97.04948425292969\n",
      "epoch 249: global loss = 68.10655212402344\n",
      "epoch 299: global loss = 47.95660400390625\n"
     ]
    }
   ],
   "source": [
    "xx = model1.fit_transform(train)"
   ]
  },
  {
   "cell_type": "code",
   "execution_count": 9,
   "metadata": {
    "collapsed": false
   },
   "outputs": [
    {
     "name": "stdout",
     "output_type": "stream",
     "text": [
      "Layer 1\n",
      "epoch 1999: global loss = 0.17903359234333038\n",
      "epoch 3999: global loss = 0.1771535724401474\n",
      "epoch 5999: global loss = 0.1760108321905136\n",
      "epoch 7999: global loss = 0.17540228366851807\n",
      "epoch 9999: global loss = 0.176953986287117\n",
      "Layer 2\n",
      "epoch 1999: global loss = 0.2211911380290985\n",
      "epoch 3999: global loss = 0.22086785733699799\n",
      "epoch 5999: global loss = 0.22122210264205933\n",
      "epoch 7999: global loss = 0.22179614007472992\n",
      "epoch 9999: global loss = 0.220793679356575\n"
     ]
    }
   ],
   "source": [
    "pp = model2.fit_transform(iris)"
   ]
  },
  {
   "cell_type": "code",
   "execution_count": null,
   "metadata": {
    "collapsed": true
   },
   "outputs": [],
   "source": []
  }
 ],
 "metadata": {
  "kernelspec": {
   "display_name": "Python 3",
   "language": "python",
   "name": "python3"
  },
  "language_info": {
   "codemirror_mode": {
    "name": "ipython",
    "version": 3
   },
   "file_extension": ".py",
   "mimetype": "text/x-python",
   "name": "python",
   "nbconvert_exporter": "python",
   "pygments_lexer": "ipython3",
   "version": "3.4.3+"
  }
 },
 "nbformat": 4,
 "nbformat_minor": 0
}
