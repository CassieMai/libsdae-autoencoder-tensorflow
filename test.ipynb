{
 "cells": [
  {
   "cell_type": "code",
   "execution_count": 1,
   "metadata": {
    "collapsed": true
   },
   "outputs": [],
   "source": [
    "import numpy as np\n",
    "from sklearn import datasets\n",
    "from deepautoencoder import StackedAutoEncoder\n",
    "from sklearn.preprocessing import StandardScaler"
   ]
  },
  {
   "cell_type": "code",
   "execution_count": 2,
   "metadata": {
    "collapsed": true
   },
   "outputs": [],
   "source": [
    "train = np.genfromtxt('data/train.csv', delimiter=',')[:,:-1]\n",
    "iris = datasets.load_iris().data\n",
    "train = StandardScaler().fit_transform(train)"
   ]
  },
  {
   "cell_type": "code",
   "execution_count": 6,
   "metadata": {
    "collapsed": false
   },
   "outputs": [
    {
     "name": "stdout",
     "output_type": "stream",
     "text": [
      "(125973, 122)\n"
     ]
    }
   ],
   "source": [
    "print(train.shape)\n",
    "model1 = StackedAutoEncoder(dims=[200, 50], activations = ['relu', 'relu'], noise='gaussian', \n",
    "                           epoch=[300,300], loss='rmse', lr=0.001, batch_size=1500, print_step=50)\n",
    "model2 = StackedAutoEncoder(dims=[5,6], activations=['relu', 'relu'], noise='gaussian', epoch=[1000,500], \n",
    "                            loss='rmse', lr=0.007, batch_size=50, print_step=200)"
   ]
  },
  {
   "cell_type": "code",
   "execution_count": 4,
   "metadata": {
    "collapsed": false
   },
   "outputs": [
    {
     "name": "stdout",
     "output_type": "stream",
     "text": [
      "Layer 1\n",
      "epoch 49: global loss = 99.65911102294922\n",
      "epoch 99: global loss = 89.32380676269531\n",
      "epoch 149: global loss = 81.5298843383789\n",
      "epoch 199: global loss = 75.2344741821289\n",
      "epoch 249: global loss = 69.84514617919922\n",
      "epoch 299: global loss = 65.0899429321289\n",
      "Layer 2\n",
      "epoch 49: global loss = 177.2949981689453\n",
      "epoch 99: global loss = 127.8693618774414\n",
      "epoch 149: global loss = 92.62565612792969\n",
      "epoch 199: global loss = 66.51217651367188\n",
      "epoch 249: global loss = 48.85901641845703\n",
      "epoch 299: global loss = 37.14158630371094\n"
     ]
    }
   ],
   "source": [
    "xx = model1.fit_transform(train)"
   ]
  },
  {
   "cell_type": "code",
   "execution_count": 7,
   "metadata": {
    "collapsed": false
   },
   "outputs": [
    {
     "name": "stdout",
     "output_type": "stream",
     "text": [
      "Layer 1\n",
      "epoch 199: global loss = 2.4214932918548584\n",
      "epoch 399: global loss = 1.0057744979858398\n",
      "epoch 599: global loss = 0.7559930086135864\n",
      "epoch 799: global loss = 0.4162595272064209\n",
      "epoch 999: global loss = 0.3130458891391754\n",
      "Layer 2\n",
      "epoch 199: global loss = 0.0663912445306778\n",
      "epoch 399: global loss = 0.04874096438288689\n"
     ]
    }
   ],
   "source": [
    "pp = model2.fit_transform(iris)"
   ]
  },
  {
   "cell_type": "code",
   "execution_count": null,
   "metadata": {
    "collapsed": true
   },
   "outputs": [],
   "source": []
  }
 ],
 "metadata": {
  "kernelspec": {
   "display_name": "Python 3",
   "language": "python",
   "name": "python3"
  },
  "language_info": {
   "codemirror_mode": {
    "name": "ipython",
    "version": 3
   },
   "file_extension": ".py",
   "mimetype": "text/x-python",
   "name": "python",
   "nbconvert_exporter": "python",
   "pygments_lexer": "ipython3",
   "version": "3.4.3+"
  }
 },
 "nbformat": 4,
 "nbformat_minor": 0
}
