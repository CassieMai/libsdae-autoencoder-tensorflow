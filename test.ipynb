{
 "cells": [
  {
   "cell_type": "code",
   "execution_count": 33,
   "metadata": {
    "collapsed": true
   },
   "outputs": [],
   "source": [
    "import numpy as np\n",
    "from sklearn import datasets\n",
    "from deepautoencoder import StackedAutoEncoder\n",
    "from sklearn.preprocessing import StandardScaler\n",
    "from sklearn.linear_model import SGDClassifier\n",
    "from sklearn.metrics import accuracy_score, precision_score"
   ]
  },
  {
   "cell_type": "code",
   "execution_count": 7,
   "metadata": {
    "collapsed": false
   },
   "outputs": [],
   "source": [
    "train = np.genfromtxt('data/train.csv', delimiter=',')\n",
    "test = np.genfromtxt('data/test.csv', delimiter=',')\n",
    "train_x = train[:,:-1]\n",
    "train_y = train[:,-1]\n",
    "test_x = test[:,:-1]\n",
    "test_y = test[:,-1]\n",
    "iris = datasets.load_iris().data\n",
    "train_x = StandardScaler().fit_transform(train_x)\n",
    "test_x = StandardScaler().fit_transform(test_x)"
   ]
  },
  {
   "cell_type": "code",
   "execution_count": 26,
   "metadata": {
    "collapsed": false
   },
   "outputs": [
    {
     "name": "stdout",
     "output_type": "stream",
     "text": [
      "(125973, 123)\n"
     ]
    }
   ],
   "source": [
    "print(train.shape)\n",
    "model1 = StackedAutoEncoder(dims=[200, 100], activations = ['relu', 'relu'], \n",
    "                           epoch=[300,300], loss='rmse', lr=0.001, batch_size=1500, print_step=50)\n",
    "model2 = StackedAutoEncoder(dims=[5,6], activations=['relu', 'relu'], noise='gaussian', epoch=[1000,500], \n",
    "                            loss='rmse', lr=0.007, batch_size=50, print_step=200)"
   ]
  },
  {
   "cell_type": "code",
   "execution_count": 27,
   "metadata": {
    "collapsed": false
   },
   "outputs": [
    {
     "name": "stdout",
     "output_type": "stream",
     "text": [
      "Layer 1\n",
      "epoch 49: global loss = 98.94746398925781\n",
      "epoch 99: global loss = 88.86489868164062\n",
      "epoch 149: global loss = 81.37454986572266\n",
      "epoch 199: global loss = 75.11902618408203\n",
      "epoch 249: global loss = 69.75602722167969\n",
      "epoch 299: global loss = 65.02898406982422\n",
      "Layer 2\n",
      "epoch 49: global loss = 330.568115234375\n",
      "epoch 99: global loss = 243.80905151367188\n",
      "epoch 149: global loss = 182.06187438964844\n",
      "epoch 199: global loss = 134.41336059570312\n",
      "epoch 249: global loss = 95.9778823852539\n",
      "epoch 299: global loss = 67.20138549804688\n",
      "(125973, 100) (22544, 100)\n"
     ]
    }
   ],
   "source": [
    "xx = model1.fit_transform(np.r_[train_x, test_x])\n",
    "train_xx = xx[:len(train_x)]\n",
    "test_xx = xx[len(train_x):]\n",
    "print(train_xx.shape, test_xx.shape)"
   ]
  },
  {
   "cell_type": "code",
   "execution_count": 7,
   "metadata": {
    "collapsed": false
   },
   "outputs": [
    {
     "name": "stdout",
     "output_type": "stream",
     "text": [
      "Layer 1\n",
      "epoch 199: global loss = 2.4214932918548584\n",
      "epoch 399: global loss = 1.0057744979858398\n",
      "epoch 599: global loss = 0.7559930086135864\n",
      "epoch 799: global loss = 0.4162595272064209\n",
      "epoch 999: global loss = 0.3130458891391754\n",
      "Layer 2\n",
      "epoch 199: global loss = 0.0663912445306778\n",
      "epoch 399: global loss = 0.04874096438288689\n"
     ]
    }
   ],
   "source": [
    "pp = model2.fit_transform(iris)"
   ]
  },
  {
   "cell_type": "code",
   "execution_count": 30,
   "metadata": {
    "collapsed": false
   },
   "outputs": [
    {
     "data": {
      "text/plain": [
       "SGDClassifier(alpha=0.0001, average=False, class_weight='balanced',\n",
       "       epsilon=0.1, eta0=0.0, fit_intercept=True, l1_ratio=0.15,\n",
       "       learning_rate='optimal', loss='log', n_iter=900, n_jobs=-1,\n",
       "       penalty='l2', power_t=0.5, random_state=None, shuffle=True,\n",
       "       verbose=0, warm_start=False)"
      ]
     },
     "execution_count": 30,
     "metadata": {},
     "output_type": "execute_result"
    }
   ],
   "source": [
    "lr = SGDClassifier(loss='log', fit_intercept=True, n_iter=900, n_jobs=-1, class_weight='balanced')\n",
    "lr.fit(train_xx, train_y)"
   ]
  },
  {
   "cell_type": "code",
   "execution_count": 34,
   "metadata": {
    "collapsed": false
   },
   "outputs": [
    {
     "name": "stderr",
     "output_type": "stream",
     "text": [
      "/usr/local/lib/python3.4/dist-packages/sklearn/metrics/classification.py:1203: DeprecationWarning: The default `weighted` averaging is deprecated, and from version 0.18, use of precision, recall or F-score with multiclass or multilabel data or pos_label=None will result in an exception. Please set an explicit value for `average`, one of (None, 'micro', 'macro', 'weighted', 'samples'). In cross validation use, for instance, scoring=\"f1_weighted\" instead of scoring=\"f1\".\n",
      "  sample_weight=sample_weight)\n"
     ]
    },
    {
     "data": {
      "text/plain": [
       "0.66165678253670457"
      ]
     },
     "execution_count": 34,
     "metadata": {},
     "output_type": "execute_result"
    }
   ],
   "source": [
    "p = lr.predict(test_xx)\n",
    "precision_score(test_y, p)"
   ]
  },
  {
   "cell_type": "code",
   "execution_count": null,
   "metadata": {
    "collapsed": true
   },
   "outputs": [],
   "source": []
  }
 ],
 "metadata": {
  "kernelspec": {
   "display_name": "Python 3",
   "language": "python",
   "name": "python3"
  },
  "language_info": {
   "codemirror_mode": {
    "name": "ipython",
    "version": 3
   },
   "file_extension": ".py",
   "mimetype": "text/x-python",
   "name": "python",
   "nbconvert_exporter": "python",
   "pygments_lexer": "ipython3",
   "version": "3.4.3+"
  }
 },
 "nbformat": 4,
 "nbformat_minor": 0
}
